{
 "cells": [
  {
   "cell_type": "markdown",
   "metadata": {
    "collapsed": true,
    "deletable": true,
    "editable": true
   },
   "source": [
    "# Image Classification\n",
    "In this project, you'll classify images from the [CIFAR-10 dataset](https://www.cs.toronto.edu/~kriz/cifar.html).  The dataset consists of airplanes, dogs, cats, and other objects. You'll preprocess the images, then train a convolutional neural network on all the samples. The images need to be normalized and the labels need to be one-hot encoded.  You'll get to apply what you learned and build a convolutional, max pooling, dropout, and fully connected layers.  At the end, you'll get to see your neural network's predictions on the sample images.\n",
    "## Get the Data\n",
    "Run the following cell to download the [CIFAR-10 dataset for python](https://www.cs.toronto.edu/~kriz/cifar-10-python.tar.gz)."
   ]
  },
  {
   "cell_type": "code",
   "execution_count": 3,
   "metadata": {
    "collapsed": false
   },
   "outputs": [
    {
     "name": "stdout",
     "output_type": "stream",
     "text": [
      "Collecting tqdm\n",
      "  Downloading tqdm-4.11.2-py2.py3-none-any.whl (46kB)\n",
      "\u001b[K    100% |████████████████████████████████| 51kB 3.4MB/s ta 0:00:01\n",
      "\u001b[?25hInstalling collected packages: tqdm\n",
      "Successfully installed tqdm-4.11.2\n"
     ]
    }
   ],
   "source": [
    "!pip install tqdm"
   ]
  },
  {
   "cell_type": "code",
   "execution_count": 4,
   "metadata": {
    "collapsed": false,
    "deletable": true,
    "editable": true
   },
   "outputs": [
    {
     "name": "stdout",
     "output_type": "stream",
     "text": [
      "All files found!\n"
     ]
    }
   ],
   "source": [
    "\"\"\"\n",
    "DON'T MODIFY ANYTHING IN THIS CELL THAT IS BELOW THIS LINE\n",
    "\"\"\"\n",
    "from urllib.request import urlretrieve\n",
    "from os.path import isfile, isdir\n",
    "from tqdm import tqdm\n",
    "import problem_unittests as tests\n",
    "import tarfile\n",
    "\n",
    "cifar10_dataset_folder_path = 'cifar-10-batches-py'\n",
    "\n",
    "# Use Floyd's cifar-10 dataset if present\n",
    "floyd_cifar10_location = '/input/cifar-10/python.tar.gz'\n",
    "if isfile(floyd_cifar10_location):\n",
    "    tar_gz_path = floyd_cifar10_location\n",
    "else:\n",
    "    tar_gz_path = 'cifar-10-python.tar.gz'\n",
    "\n",
    "class DLProgress(tqdm):\n",
    "    last_block = 0\n",
    "\n",
    "    def hook(self, block_num=1, block_size=1, total_size=None):\n",
    "        self.total = total_size\n",
    "        self.update((block_num - self.last_block) * block_size)\n",
    "        self.last_block = block_num\n",
    "\n",
    "if not isfile(tar_gz_path):\n",
    "    with DLProgress(unit='B', unit_scale=True, miniters=1, desc='CIFAR-10 Dataset') as pbar:\n",
    "        urlretrieve(\n",
    "            'https://www.cs.toronto.edu/~kriz/cifar-10-python.tar.gz',\n",
    "            tar_gz_path,\n",
    "            pbar.hook)\n",
    "\n",
    "if not isdir(cifar10_dataset_folder_path):\n",
    "    with tarfile.open(tar_gz_path) as tar:\n",
    "        tar.extractall()\n",
    "        tar.close()\n",
    "\n",
    "\n",
    "tests.test_folder_path(cifar10_dataset_folder_path)"
   ]
  },
  {
   "cell_type": "markdown",
   "metadata": {
    "deletable": true,
    "editable": true
   },
   "source": [
    "## Explore the Data\n",
    "The dataset is broken into batches to prevent your machine from running out of memory.  The CIFAR-10 dataset consists of 5 batches, named `data_batch_1`, `data_batch_2`, etc.. Each batch contains the labels and images that are one of the following:\n",
    "* airplane\n",
    "* automobile\n",
    "* bird\n",
    "* cat\n",
    "* deer\n",
    "* dog\n",
    "* frog\n",
    "* horse\n",
    "* ship\n",
    "* truck\n",
    "\n",
    "Understanding a dataset is part of making predictions on the data.  Play around with the code cell below by changing the `batch_id` and `sample_id`. The `batch_id` is the id for a batch (1-5). The `sample_id` is the id for a image and label pair in the batch.\n",
    "\n",
    "Ask yourself \"What are all possible labels?\", \"What is the range of values for the image data?\", \"Are the labels in order or random?\".  Answers to questions like these will help you preprocess the data and end up with better predictions."
   ]
  },
  {
   "cell_type": "code",
   "execution_count": 5,
   "metadata": {
    "collapsed": false,
    "deletable": true,
    "editable": true
   },
   "outputs": [
    {
     "name": "stdout",
     "output_type": "stream",
     "text": [
      "\n",
      "Stats of batch 1:\n",
      "Samples: 10000\n",
      "Label Counts: {0: 1005, 1: 974, 2: 1032, 3: 1016, 4: 999, 5: 937, 6: 1030, 7: 1001, 8: 1025, 9: 981}\n",
      "First 20 Labels: [6, 9, 9, 4, 1, 1, 2, 7, 8, 3, 4, 7, 7, 2, 9, 9, 9, 3, 2, 6]\n",
      "\n",
      "Example of Image 5:\n",
      "Image - Min Value: 0 Max Value: 252\n",
      "Image - Shape: (32, 32, 3)\n",
      "Label - Label Id: 1 Name: automobile\n"
     ]
    },
    {
     "data": {
      "image/png": "[encoded data removed]",
      "text/plain": [
       "<matplotlib.figure.Figure at 0x7fdb04156dd8>"
      ]
     },
     "metadata": {
      "image/png": {
       "height": 250,
       "width": 253
      }
     },
     "output_type": "display_data"
    }
   ],
   "source": [
    "%matplotlib inline\n",
    "%config InlineBackend.figure_format = 'retina'\n",
    "\n",
    "import helper\n",
    "import numpy as np\n",
    "\n",
    "# Explore the dataset\n",
    "batch_id = 1\n",
    "sample_id = 5\n",
    "helper.display_stats(cifar10_dataset_folder_path, batch_id, sample_id)"
   ]
  },
  {
   "cell_type": "markdown",
   "metadata": {
    "deletable": true,
    "editable": true
   },
   "source": [
    "## Implement Preprocess Functions\n",
    "### Normalize\n",
    "In the cell below, implement the `normalize` function to take in image data, `x`, and return it as a normalized Numpy array. The values should be in the range of 0 to 1, inclusive.  The return object should be the same shape as `x`."
   ]
  },
  {
   "cell_type": "code",
   "execution_count": 6,
   "metadata": {
    "collapsed": false,
    "deletable": true,
    "editable": true
   },
   "outputs": [
    {
     "name": "stdout",
     "output_type": "stream",
     "text": [
      "Tests Passed\n"
     ]
    }
   ],
   "source": [
    "def normalize(x):\n",
    "    \"\"\"\n",
    "    Normalize a list of sample image data in the range of 0 to 1\n",
    "    : x: List of image data.  The image shape is (32, 32, 3)\n",
    "    : return: Numpy array of normalize data\n",
    "    \"\"\"\n",
    "    # TODO: Implement Function\n",
    "    return x / 255\n",
    "\n",
    "\n",
    "\"\"\"\n",
    "DON'T MODIFY ANYTHING IN THIS CELL THAT IS BELOW THIS LINE\n",
    "\"\"\"\n",
    "tests.test_normalize(normalize)"
   ]
  },
  {
   "cell_type": "markdown",
   "metadata": {
    "deletable": true,
    "editable": true
   },
   "source": [
    "### One-hot encode\n",
    "Just like the previous code cell, you'll be implementing a function for preprocessing.  This time, you'll implement the `one_hot_encode` function. The input, `x`, are a list of labels.  Implement the function to return the list of labels as One-Hot encoded Numpy array.  The possible values for labels are 0 to 9. The one-hot encoding function should return the same encoding for each value between each call to `one_hot_encode`.  Make sure to save the map of encodings outside the function.\n",
    "\n",
    "Hint: Don't reinvent the wheel."
   ]
  },
  {
   "cell_type": "code",
   "execution_count": 7,
   "metadata": {
    "collapsed": false,
    "deletable": true,
    "editable": true
   },
   "outputs": [
    {
     "name": "stdout",
     "output_type": "stream",
     "text": [
      "Tests Passed\n"
     ]
    }
   ],
   "source": [
    "from sklearn.preprocessing import OneHotEncoder\n",
    "encoder = OneHotEncoder()\n",
    "encoder.fit(np.reshape(range(10),[-1,1]))\n",
    "def one_hot_encode(x):\n",
    "    \"\"\"\n",
    "    One hot encode a list of sample labels. Return a one-hot encoded vector for each label.\n",
    "    : x: List of sample Labels\n",
    "    : return: Numpy array of one-hot encoded labels\n",
    "    \"\"\"\n",
    "    # TODO: Implement Function\n",
    "    return np.array(encoder.transform(np.reshape(x,[-1,1])).toarray())\n",
    "\n",
    "\"\"\"\n",
    "DON'T MODIFY ANYTHING IN THIS CELL THAT IS BELOW THIS LINE\n",
    "\"\"\"\n",
    "tests.test_one_hot_encode(one_hot_encode)"
   ]
  },
  {
   "cell_type": "markdown",
   "metadata": {
    "deletable": true,
    "editable": true
   },
   "source": [
    "### Randomize Data\n",
    "As you saw from exploring the data above, the order of the samples are randomized.  It doesn't hurt to randomize it again, but you don't need to for this dataset."
   ]
  },
  {
   "cell_type": "markdown",
   "metadata": {
    "deletable": true,
    "editable": true
   },
   "source": [
    "## Preprocess all the data and save it\n",
    "Running the code cell below will preprocess all the CIFAR-10 data and save it to file. The code below also uses 10% of the training data for validation."
   ]
  },
  {
   "cell_type": "code",
   "execution_count": 8,
   "metadata": {
    "collapsed": false,
    "deletable": true,
    "editable": true
   },
   "outputs": [],
   "source": [
    "\"\"\"\n",
    "DON'T MODIFY ANYTHING IN THIS CELL\n",
    "\"\"\"\n",
    "# Preprocess Training, Validation, and Testing Data\n",
    "helper.preprocess_and_save_data(cifar10_dataset_folder_path, normalize, one_hot_encode)"
   ]
  },
  {
   "cell_type": "markdown",
   "metadata": {
    "deletable": true,
    "editable": true
   },
   "source": [
    "# Check Point\n",
    "This is your first checkpoint.  If you ever decide to come back to this notebook or have to restart the notebook, you can start from here.  The preprocessed data has been saved to disk."
   ]
  },
  {
   "cell_type": "code",
   "execution_count": 9,
   "metadata": {
    "collapsed": true,
    "deletable": true,
    "editable": true
   },
   "outputs": [],
   "source": [
    "\"\"\"\n",
    "DON'T MODIFY ANYTHING IN THIS CELL\n",
    "\"\"\"\n",
    "import pickle\n",
    "import problem_unittests as tests\n",
    "import helper\n",
    "\n",
    "# Load the Preprocessed Validation data\n",
    "valid_features, valid_labels = pickle.load(open('preprocess_validation.p', mode='rb'))"
   ]
  },
  {
   "cell_type": "markdown",
   "metadata": {
    "deletable": true,
    "editable": true
   },
   "source": [
    "## Build the network\n",
    "For the neural network, you'll build each layer into a function.  Most of the code you've seen has been outside of functions. To test your code more thoroughly, we require that you put each layer in a function.  This allows us to give you better feedback and test for simple mistakes using our unittests before you submit your project.\n",
    "\n",
    "If you're finding it hard to dedicate enough time for this course a week, we've provided a small shortcut to this part of the project. In the next couple of problems, you'll have the option to use [TensorFlow Layers](https://www.tensorflow.org/api_docs/python/tf/layers) or [TensorFlow Layers (contrib)](https://www.tensorflow.org/api_guides/python/contrib.layers) to build each layer, except \"Convolutional & Max Pooling\" layer.  TF Layers is similar to Keras's and TFLearn's abstraction to layers, so it's easy to pickup.\n",
    "\n",
    "If you would like to get the most of this course, try to solve all the problems without TF Layers.  Let's begin!\n",
    "### Input\n",
    "The neural network needs to read the image data, one-hot encoded labels, and dropout keep probability. Implement the following functions\n",
    "* Implement `neural_net_image_input`\n",
    " * Return a [TF Placeholder](https://www.tensorflow.org/api_docs/python/tf/placeholder)\n",
    " * Set the shape using `image_shape` with batch size set to `None`.\n",
    " * Name the TensorFlow placeholder \"x\" using the TensorFlow `name` parameter in the [TF Placeholder](https://www.tensorflow.org/api_docs/python/tf/placeholder).\n",
    "* Implement `neural_net_label_input`\n",
    " * Return a [TF Placeholder](https://www.tensorflow.org/api_docs/python/tf/placeholder)\n",
    " * Set the shape using `n_classes` with batch size set to `None`.\n",
    " * Name the TensorFlow placeholder \"y\" using the TensorFlow `name` parameter in the [TF Placeholder](https://www.tensorflow.org/api_docs/python/tf/placeholder).\n",
    "* Implement `neural_net_keep_prob_input`\n",
    " * Return a [TF Placeholder](https://www.tensorflow.org/api_docs/python/tf/placeholder) for dropout keep probability.\n",
    " * Name the TensorFlow placeholder \"keep_prob\" using the TensorFlow `name` parameter in the [TF Placeholder](https://www.tensorflow.org/api_docs/python/tf/placeholder).\n",
    "\n",
    "These names will be used at the end of the project to load your saved model.\n",
    "\n",
    "Note: `None` for shapes in TensorFlow allow for a dynamic size."
   ]
  },
  {
   "cell_type": "code",
   "execution_count": 10,
   "metadata": {
    "collapsed": false,
    "deletable": true,
    "editable": true
   },
   "outputs": [
    {
     "name": "stdout",
     "output_type": "stream",
     "text": [
      "Image Input Tests Passed.\n",
      "Label Input Tests Passed.\n",
      "Keep Prob Tests Passed.\n"
     ]
    }
   ],
   "source": [
    "import tensorflow as tf\n",
    "\n",
    "def neural_net_image_input(image_shape):\n",
    "    \"\"\"\n",
    "    Return a Tensor for a bach of image input\n",
    "    : image_shape: Shape of the images\n",
    "    : return: Tensor for image input.\n",
    "    \"\"\"\n",
    "    # TODO: Implement Function\n",
    "    return tf.placeholder(tf.float32, shape=(None,)+image_shape, name='x')\n",
    "\n",
    "\n",
    "def neural_net_label_input(n_classes):\n",
    "    \"\"\"\n",
    "    Return a Tensor for a batch of label input\n",
    "    : n_classes: Number of classes\n",
    "    : return: Tensor for label input.\n",
    "    \"\"\"\n",
    "    # TODO: Implement Function\n",
    "    return tf.placeholder(tf.float32, shape=[None, n_classes], name='y')\n",
    "\n",
    "\n",
    "def neural_net_keep_prob_input():\n",
    "    \"\"\"\n",
    "    Return a Tensor for keep probability\n",
    "    : return: Tensor for keep probability.\n",
    "    \"\"\"\n",
    "    # TODO: Implement Function\n",
    "    return tf.placeholder(tf.float32, name='keep_prob')\n",
    "\n",
    "\n",
    "\"\"\"\n",
    "DON'T MODIFY ANYTHING IN THIS CELL THAT IS BELOW THIS LINE\n",
    "\"\"\"\n",
    "tf.reset_default_graph()\n",
    "tests.test_nn_image_inputs(neural_net_image_input)\n",
    "tests.test_nn_label_inputs(neural_net_label_input)\n",
    "tests.test_nn_keep_prob_inputs(neural_net_keep_prob_input)"
   ]
  },
  {
   "cell_type": "markdown",
   "metadata": {
    "deletable": true,
    "editable": true
   },
   "source": [
    "### Convolution and Max Pooling Layer\n",
    "Convolution layers have a lot of success with images. For this code cell, you should implement the function `conv2d_maxpool` to apply convolution then max pooling:\n",
    "* Create the weight and bias using `conv_ksize`, `conv_num_outputs` and the shape of `x_tensor`.\n",
    "* Apply a convolution to `x_tensor` using weight and `conv_strides`.\n",
    " * We recommend you use same padding, but you're welcome to use any padding.\n",
    "* Add bias\n",
    "* Add a nonlinear activation to the convolution.\n",
    "* Apply Max Pooling using `pool_ksize` and `pool_strides`.\n",
    " * We recommend you use same padding, but you're welcome to use any padding.\n",
    "\n",
    "Note: You **can't** use [TensorFlow Layers](https://www.tensorflow.org/api_docs/python/tf/layers) or [TensorFlow Layers (contrib)](https://www.tensorflow.org/api_guides/python/contrib.layers) for this layer.  You're free to use any TensorFlow package for all the other layers."
   ]
  },
  {
   "cell_type": "code",
   "execution_count": 11,
   "metadata": {
    "collapsed": false,
    "deletable": true,
    "editable": true
   },
   "outputs": [
    {
     "name": "stdout",
     "output_type": "stream",
     "text": [
      "Tests Passed\n"
     ]
    }
   ],
   "source": [
    "def conv2d_maxpool(x_tensor, conv_num_outputs, conv_ksize, conv_strides, pool_ksize, pool_strides):\n",
    "    \"\"\"\n",
    "    Apply convolution then max pooling to x_tensor\n",
    "    :param x_tensor: TensorFlow Tensor\n",
    "    :param conv_num_outputs: Number of outputs for the convolutional layer\n",
    "    :param conv_strides: Stride 2-D Tuple for convolution\n",
    "    :param pool_ksize: kernal size 2-D Tuple for pool\n",
    "    :param pool_strides: Stride 2-D Tuple for pool\n",
    "    : return: A tensor that represents convolution and max pooling of x_tensor\n",
    "    \"\"\"\n",
    "    # TODO: Implement Function\n",
    "    # filter weights - initialized as truncated normal with stdev = 1/(conv_ksize*conv_ksize)  \n",
    "    filter_weights = tf.Variable(tf.truncated_normal([conv_ksize[0], conv_ksize[1], int(x_tensor.get_shape()[3]), conv_num_outputs], mean=0.0, stddev=1.0/(conv_ksize[0]*conv_ksize[1]), dtype=tf.float32))\n",
    "    # biases for the convolution layer \n",
    "    biases = tf.Variable(tf.zeros([conv_num_outputs], dtype=tf.float32))\n",
    "    # convolution using a filter\n",
    "    result = tf.nn.conv2d(x_tensor, filter_weights, (1,)+conv_strides+(1,), padding='SAME')\n",
    "    # add biases\n",
    "    result = tf.nn.bias_add(result, biases)\n",
    "    # apply ReLU\n",
    "    result = tf.nn.relu(result)\n",
    "    # apply max pooling\n",
    "    result = tf.nn.max_pool(result, (1,)+pool_ksize+(1,), (1,)+pool_strides+(1,), padding='SAME')\n",
    "    \n",
    "    return result \n",
    "\"\"\"\n",
    "DON'T MODIFY ANYTHING IN THIS CELL THAT IS BELOW THIS LINE\n",
    "\"\"\"\n",
    "tests.test_con_pool(conv2d_maxpool)"
   ]
  },
  {
   "cell_type": "markdown",
   "metadata": {
    "deletable": true,
    "editable": true
   },
   "source": [
    "### Flatten Layer\n",
    "Implement the `flatten` function to change the dimension of `x_tensor` from a 4-D tensor to a 2-D tensor.  The output should be the shape (*Batch Size*, *Flattened Image Size*). You can use [TensorFlow Layers](https://www.tensorflow.org/api_docs/python/tf/layers) or [TensorFlow Layers (contrib)](https://www.tensorflow.org/api_guides/python/contrib.layers) for this layer."
   ]
  },
  {
   "cell_type": "code",
   "execution_count": 12,
   "metadata": {
    "collapsed": false,
    "deletable": true,
    "editable": true
   },
   "outputs": [
    {
     "name": "stdout",
     "output_type": "stream",
     "text": [
      "Tests Passed\n"
     ]
    }
   ],
   "source": [
    "import numpy as np\n",
    "def flatten(x_tensor):\n",
    "    \"\"\"\n",
    "    Flatten x_tensor to (Batch Size, Flattened Image Size)\n",
    "    : x_tensor: A tensor of size (Batch Size, ...), where ... are the image dimensions.\n",
    "    : return: A tensor of size (Batch Size, Flattened Image Size).\n",
    "    \"\"\"\n",
    "    # get the passed tensor shape\n",
    "    x_tensor_shape = x_tensor.get_shape()\n",
    "    # reshape so that batch size is kept, but other dimensions flattened\n",
    "    return tf.reshape(x_tensor,(-1,int(np.prod(x_tensor_shape[1:4]))))\n",
    "\n",
    "\"\"\"\n",
    "DON'T MODIFY ANYTHING IN THIS CELL THAT IS BELOW THIS LINE\n",
    "\"\"\"\n",
    "tests.test_flatten(flatten)"
   ]
  },
  {
   "cell_type": "markdown",
   "metadata": {
    "deletable": true,
    "editable": true
   },
   "source": [
    "### Fully-Connected Layer\n",
    "Implement the `fully_conn` function to apply a fully connected layer to `x_tensor` with the shape (*Batch Size*, *num_outputs*). You can use [TensorFlow Layers](https://www.tensorflow.org/api_docs/python/tf/layers) or [TensorFlow Layers (contrib)](https://www.tensorflow.org/api_guides/python/contrib.layers) for this layer."
   ]
  },
  {
   "cell_type": "code",
   "execution_count": 13,
   "metadata": {
    "collapsed": false,
    "deletable": true,
    "editable": true
   },
   "outputs": [
    {
     "name": "stdout",
     "output_type": "stream",
     "text": [
      "Tests Passed\n"
     ]
    }
   ],
   "source": [
    "def fully_conn(x_tensor, num_outputs):\n",
    "    \"\"\"\n",
    "    Apply a fully connected layer to x_tensor using weight and bias\n",
    "    : x_tensor: A 2-D tensor where the first dimension is batch size.\n",
    "    : num_outputs: The number of output that the new tensor should be.\n",
    "    : return: A 2-D tensor where the second dimension is num_outputs.\n",
    "    \"\"\"\n",
    "    # TODO: Implement Function\n",
    "    # get passed tensor shape\n",
    "    x_tensor_shape = x_tensor.get_shape()\n",
    "    # fully connected layer weights, initialized with truncated normal of standard deviation\n",
    "    # 1/(flattened tensor depth) in order to prevent neuron saturation\n",
    "    weights = tf.Variable(tf.truncated_normal((int(x_tensor_shape[1]), num_outputs), mean=0.0, stddev=1.0/int(x_tensor_shape[1]), dtype=tf.float32))\n",
    "    # fully connected layer biases\n",
    "    biases = tf.Variable(tf.zeros((num_outputs), dtype=tf.float32))\n",
    "    # multiply by weights\n",
    "    result = tf.matmul(x_tensor, weights)\n",
    "    # add biases\n",
    "    result = tf.nn.bias_add(result, biases)\n",
    "    # apply ReLU\n",
    "    result = tf.nn.relu(result)\n",
    "    return result\n",
    "\n",
    "\n",
    "\"\"\"\n",
    "DON'T MODIFY ANYTHING IN THIS CELL THAT IS BELOW THIS LINE\n",
    "\"\"\"\n",
    "tests.test_fully_conn(fully_conn)"
   ]
  },
  {
   "cell_type": "markdown",
   "metadata": {
    "deletable": true,
    "editable": true
   },
   "source": [
    "### Output Layer\n",
    "Implement the `output` function to apply a fully connected layer to `x_tensor` with the shape (*Batch Size*, *num_outputs*). You can use [TensorFlow Layers](https://www.tensorflow.org/api_docs/python/tf/layers) or [TensorFlow Layers (contrib)](https://www.tensorflow.org/api_guides/python/contrib.layers) for this layer.\n",
    "\n",
    "Note: Activation, softmax, or cross entropy shouldn't be applied to this."
   ]
  },
  {
   "cell_type": "code",
   "execution_count": 14,
   "metadata": {
    "collapsed": false,
    "deletable": true,
    "editable": true
   },
   "outputs": [
    {
     "name": "stdout",
     "output_type": "stream",
     "text": [
      "Tests Passed\n"
     ]
    }
   ],
   "source": [
    "def output(x_tensor, num_outputs):\n",
    "    \"\"\"\n",
    "    Apply a output layer to x_tensor using weight and bias\n",
    "    : x_tensor: A 2-D tensor where the first dimension is batch size.\n",
    "    : num_outputs: The number of output that the new tensor should be.\n",
    "    : return: A 2-D tensor where the second dimension is num_outputs.\n",
    "    \"\"\"\n",
    "    # TODO: Implement Function\n",
    "    # TODO: Implement Function\n",
    "    # reuse the fully conn function\n",
    "    return fully_conn(x_tensor, num_outputs)    \n",
    "\n",
    "\"\"\"\n",
    "DON'T MODIFY ANYTHING IN THIS CELL THAT IS BELOW THIS LINE\n",
    "\"\"\"\n",
    "tests.test_output(output)"
   ]
  },
  {
   "cell_type": "markdown",
   "metadata": {
    "deletable": true,
    "editable": true
   },
   "source": [
    "### Create Convolutional Model\n",
    "Implement the function `conv_net` to create a convolutional neural network model. The function takes in a batch of images, `x`, and outputs logits.  Use the layers you created above to create this model:\n",
    "\n",
    "* Apply 1, 2, or 3 Convolution and Max Pool layers\n",
    "* Apply a Flatten Layer\n",
    "* Apply 1, 2, or 3 Fully Connected Layers\n",
    "* Apply an Output Layer\n",
    "* Return the output\n",
    "* Apply [TensorFlow's Dropout](https://www.tensorflow.org/api_docs/python/tf/nn/dropout) to one or more layers in the model using `keep_prob`. "
   ]
  },
  {
   "cell_type": "code",
   "execution_count": 15,
   "metadata": {
    "collapsed": false,
    "deletable": true,
    "editable": true
   },
   "outputs": [
    {
     "name": "stdout",
     "output_type": "stream",
     "text": [
      "Neural Network Built!\n"
     ]
    }
   ],
   "source": [
    "def conv_net(x, keep_prob):\n",
    "    \"\"\"\n",
    "    Create a convolutional neural network model\n",
    "    : x: Placeholder tensor that holds image data.\n",
    "    : keep_prob: Placeholder tensor that hold dropout keep probability.\n",
    "    : return: Tensor that represents logits\n",
    "    \"\"\"\n",
    "    # TODO: Apply 1, 2, or 3 Convolution and Max Pool layers\n",
    "    #    Play around with different number of outputs, kernel size and stride\n",
    "    # Function Definition from Above:\n",
    "    #    conv2d_maxpool(x_tensor, conv_num_outputs, conv_ksize, conv_strides, pool_ksize, pool_strides)\n",
    "    model = conv2d_maxpool(x, 32, (4,4), (1,1), (4, 4), (2, 2))\n",
    "    model = conv2d_maxpool(model, 64, (4,4), (1,1), (4, 4), (2, 2))\n",
    "    \n",
    "\n",
    "    # TODO: Apply a Flatten Layer\n",
    "    # Function Definition from Above:\n",
    "    #   flatten(x_tensor)\n",
    "    model = flatten(model)\n",
    "    \n",
    "\n",
    "    # TODO: Apply 1, 2, or 3 Fully Connected Layers\n",
    "    #    Play around with different number of outputs\n",
    "    # Function Definition from Above:\n",
    "    #   fully_conn(x_tensor, num_outputs)\n",
    "    model = fully_conn(model, 250) \n",
    "    model = tf.nn.dropout(model, keep_prob)\n",
    "   \n",
    "    \n",
    "    # TODO: Apply an Output Layer\n",
    "    #    Set this to the number of classes\n",
    "    # Function Definition from Above:\n",
    "    #   output(x_tensor, num_outputs)\n",
    "    model = output(model, 10)\n",
    "    \n",
    "    # TODO: return output\n",
    "    return model\n",
    "\n",
    "\n",
    "\"\"\"\n",
    "DON'T MODIFY ANYTHING IN THIS CELL THAT IS BELOW THIS LINE\n",
    "\"\"\"\n",
    "\n",
    "##############################\n",
    "## Build the Neural Network ##\n",
    "##############################\n",
    "\n",
    "# Remove previous weights, bias, inputs, etc..\n",
    "tf.reset_default_graph()\n",
    "\n",
    "# Inputs\n",
    "x = neural_net_image_input((32, 32, 3))\n",
    "y = neural_net_label_input(10)\n",
    "keep_prob = neural_net_keep_prob_input()\n",
    "\n",
    "# Model\n",
    "logits = conv_net(x, keep_prob)\n",
    "\n",
    "# Name logits Tensor, so that is can be loaded from disk after training\n",
    "logits = tf.identity(logits, name='logits')\n",
    "\n",
    "# Loss and Optimizer\n",
    "cost = tf.reduce_mean(tf.nn.softmax_cross_entropy_with_logits(logits=logits, labels=y))\n",
    "optimizer = tf.train.AdamOptimizer().minimize(cost)\n",
    "\n",
    "# Accuracy\n",
    "correct_pred = tf.equal(tf.argmax(logits, 1), tf.argmax(y, 1))\n",
    "accuracy = tf.reduce_mean(tf.cast(correct_pred, tf.float32), name='accuracy')\n",
    "\n",
    "tests.test_conv_net(conv_net)"
   ]
  },
  {
   "cell_type": "markdown",
   "metadata": {
    "deletable": true,
    "editable": true
   },
   "source": [
    "## Train the Neural Network\n",
    "### Single Optimization\n",
    "Implement the function `train_neural_network` to do a single optimization.  The optimization should use `optimizer` to optimize in `session` with a `feed_dict` of the following:\n",
    "* `x` for image input\n",
    "* `y` for labels\n",
    "* `keep_prob` for keep probability for dropout\n",
    "\n",
    "This function will be called for each batch, so `tf.global_variables_initializer()` has already been called.\n",
    "\n",
    "Note: Nothing needs to be returned. This function is only optimizing the neural network."
   ]
  },
  {
   "cell_type": "code",
   "execution_count": 16,
   "metadata": {
    "collapsed": false,
    "deletable": true,
    "editable": true
   },
   "outputs": [
    {
     "name": "stdout",
     "output_type": "stream",
     "text": [
      "Tests Passed\n"
     ]
    }
   ],
   "source": [
    "def train_neural_network(session, optimizer, keep_probability, feature_batch, label_batch):\n",
    "    \"\"\"\n",
    "    Optimize the session on a batch of images and labels\n",
    "    : session: Current TensorFlow session\n",
    "    : optimizer: TensorFlow optimizer function\n",
    "    : keep_probability: keep probability\n",
    "    : feature_batch: Batch of Numpy image data\n",
    "    : label_batch: Batch of Numpy label data\n",
    "    \"\"\"\n",
    "    # TODO: Implement Function\n",
    "    session.run(optimizer, feed_dict={x:feature_batch, y:label_batch, keep_prob:keep_probability})\n",
    "\n",
    "\n",
    "\"\"\"\n",
    "DON'T MODIFY ANYTHING IN THIS CELL THAT IS BELOW THIS LINE\n",
    "\"\"\"\n",
    "tests.test_train_nn(train_neural_network)"
   ]
  },
  {
   "cell_type": "markdown",
   "metadata": {
    "deletable": true,
    "editable": true
   },
   "source": [
    "### Show Stats\n",
    "Implement the function `print_stats` to print loss and validation accuracy.  Use the global variables `valid_features` and `valid_labels` to calculate validation accuracy.  Use a keep probability of `1.0` to calculate the loss and validation accuracy."
   ]
  },
  {
   "cell_type": "code",
   "execution_count": 17,
   "metadata": {
    "collapsed": false,
    "deletable": true,
    "editable": true
   },
   "outputs": [],
   "source": [
    "def print_stats(session, feature_batch, label_batch, cost, accuracy):\n",
    "    \"\"\"\n",
    "    Print information about loss and validation accuracy\n",
    "    : session: Current TensorFlow session\n",
    "    : feature_batch: Batch of Numpy image data\n",
    "    : label_batch: Batch of Numpy label data\n",
    "    : cost: TensorFlow cost function\n",
    "    : accuracy: TensorFlow accuracy function\n",
    "    \"\"\"\n",
    "    # define the feed dictionary\n",
    "    feed_dict = {\n",
    "        'x:0': feature_batch,\n",
    "        'y:0': label_batch,\n",
    "        'keep_prob:0': 1\n",
    "    }\n",
    "    # run the cost and accuracy computations using the session\n",
    "    c, a = session.run([cost, accuracy], feed_dict)\n",
    "    \n",
    "    # define the feed dictionary\n",
    "    feed_dict = {\n",
    "        'x:0': valid_features,\n",
    "        'y:0': valid_labels,\n",
    "        'keep_prob:0': 1\n",
    "    }\n",
    "    # run the cost and accuracy computations using the session\n",
    "    cv, av = session.run([cost, accuracy], feed_dict)\n",
    "    \n",
    "    # print the cost and the accuracy\n",
    "    print('Cost and accuracy: (%0.3f, %0.3f) On valid set: (%0.3f, %0.3f)' % (c, a, cv, av))"
   ]
  },
  {
   "cell_type": "markdown",
   "metadata": {
    "deletable": true,
    "editable": true
   },
   "source": [
    "### Hyperparameters\n",
    "Tune the following parameters:\n",
    "* Set `epochs` to the number of iterations until the network stops learning or start overfitting\n",
    "* Set `batch_size` to the highest number that your machine has memory for.  Most people set them to common sizes of memory:\n",
    " * 64\n",
    " * 128\n",
    " * 256\n",
    " * ...\n",
    "* Set `keep_probability` to the probability of keeping a node using dropout"
   ]
  },
  {
   "cell_type": "code",
   "execution_count": 18,
   "metadata": {
    "collapsed": true,
    "deletable": true,
    "editable": true
   },
   "outputs": [],
   "source": [
    "# TODO: Tune Parameters\n",
    "epochs = 50\n",
    "batch_size = 2048\n",
    "keep_probability = 0.5"
   ]
  },
  {
   "cell_type": "markdown",
   "metadata": {
    "deletable": true,
    "editable": true
   },
   "source": [
    "### Train on a Single CIFAR-10 Batch\n",
    "Instead of training the neural network on all the CIFAR-10 batches of data, let's use a single batch. This should save time while you iterate on the model to get a better accuracy.  Once the final validation accuracy is 50% or greater, run the model on all the data in the next section."
   ]
  },
  {
   "cell_type": "code",
   "execution_count": 19,
   "metadata": {
    "collapsed": false,
    "deletable": true,
    "editable": true
   },
   "outputs": [
    {
     "name": "stdout",
     "output_type": "stream",
     "text": [
      "Checking the Training on a Single Batch...\n",
      "Epoch  1, CIFAR-10 Batch 1:  Cost and accuracy: (2.284, 0.204) On valid set: (2.283, 0.188)\n",
      "Epoch  2, CIFAR-10 Batch 1:  Cost and accuracy: (2.215, 0.203) On valid set: (2.210, 0.211)\n",
      "Epoch  3, CIFAR-10 Batch 1:  Cost and accuracy: (2.112, 0.292) On valid set: (2.101, 0.278)\n",
      "Epoch  4, CIFAR-10 Batch 1:  Cost and accuracy: (2.052, 0.303) On valid set: (2.036, 0.292)\n",
      "Epoch  5, CIFAR-10 Batch 1:  Cost and accuracy: (2.009, 0.323) On valid set: (1.991, 0.315)\n",
      "Epoch  6, CIFAR-10 Batch 1:  Cost and accuracy: (1.972, 0.340) On valid set: (1.964, 0.327)\n",
      "Epoch  7, CIFAR-10 Batch 1:  Cost and accuracy: (1.926, 0.358) On valid set: (1.917, 0.347)\n",
      "Epoch  8, CIFAR-10 Batch 1:  Cost and accuracy: (1.887, 0.370) On valid set: (1.875, 0.367)\n",
      "Epoch  9, CIFAR-10 Batch 1:  Cost and accuracy: (1.843, 0.395) On valid set: (1.839, 0.383)\n",
      "Epoch 10, CIFAR-10 Batch 1:  Cost and accuracy: (1.807, 0.415) On valid set: (1.815, 0.390)\n",
      "Epoch 11, CIFAR-10 Batch 1:  Cost and accuracy: (1.784, 0.417) On valid set: (1.804, 0.395)\n",
      "Epoch 12, CIFAR-10 Batch 1:  Cost and accuracy: (1.769, 0.421) On valid set: (1.799, 0.395)\n",
      "Epoch 13, CIFAR-10 Batch 1:  Cost and accuracy: (1.727, 0.446) On valid set: (1.750, 0.413)\n",
      "Epoch 14, CIFAR-10 Batch 1:  Cost and accuracy: (1.696, 0.446) On valid set: (1.735, 0.418)\n",
      "Epoch 15, CIFAR-10 Batch 1:  Cost and accuracy: (1.672, 0.467) On valid set: (1.716, 0.422)\n",
      "Epoch 16, CIFAR-10 Batch 1:  Cost and accuracy: (1.641, 0.472) On valid set: (1.691, 0.429)\n",
      "Epoch 17, CIFAR-10 Batch 1:  Cost and accuracy: (1.624, 0.485) On valid set: (1.678, 0.435)\n",
      "Epoch 18, CIFAR-10 Batch 1:  Cost and accuracy: (1.616, 0.476) On valid set: (1.681, 0.436)\n",
      "Epoch 19, CIFAR-10 Batch 1:  Cost and accuracy: (1.616, 0.485) On valid set: (1.690, 0.434)\n",
      "Epoch 20, CIFAR-10 Batch 1:  Cost and accuracy: (1.583, 0.490) On valid set: (1.648, 0.451)\n",
      "Epoch 21, CIFAR-10 Batch 1:  Cost and accuracy: (1.568, 0.496) On valid set: (1.647, 0.450)\n",
      "Epoch 22, CIFAR-10 Batch 1:  Cost and accuracy: (1.553, 0.495) On valid set: (1.638, 0.454)\n",
      "Epoch 23, CIFAR-10 Batch 1:  Cost and accuracy: (1.538, 0.509) On valid set: (1.631, 0.457)\n",
      "Epoch 24, CIFAR-10 Batch 1:  Cost and accuracy: (1.535, 0.494) On valid set: (1.637, 0.452)\n",
      "Epoch 25, CIFAR-10 Batch 1:  Cost and accuracy: (1.510, 0.511) On valid set: (1.611, 0.462)\n",
      "Epoch 26, CIFAR-10 Batch 1:  Cost and accuracy: (1.493, 0.535) On valid set: (1.596, 0.469)\n",
      "Epoch 27, CIFAR-10 Batch 1:  Cost and accuracy: (1.484, 0.538) On valid set: (1.588, 0.472)\n",
      "Epoch 28, CIFAR-10 Batch 1:  Cost and accuracy: (1.468, 0.538) On valid set: (1.577, 0.480)\n",
      "Epoch 29, CIFAR-10 Batch 1:  Cost and accuracy: (1.442, 0.547) On valid set: (1.558, 0.484)\n",
      "Epoch 30, CIFAR-10 Batch 1:  Cost and accuracy: (1.428, 0.557) On valid set: (1.549, 0.489)\n",
      "Epoch 31, CIFAR-10 Batch 1:  Cost and accuracy: (1.415, 0.557) On valid set: (1.546, 0.490)\n",
      "Epoch 32, CIFAR-10 Batch 1:  Cost and accuracy: (1.413, 0.559) On valid set: (1.552, 0.488)\n",
      "Epoch 33, CIFAR-10 Batch 1:  Cost and accuracy: (1.415, 0.557) On valid set: (1.557, 0.489)\n",
      "Epoch 34, CIFAR-10 Batch 1:  Cost and accuracy: (1.392, 0.561) On valid set: (1.538, 0.493)\n",
      "Epoch 35, CIFAR-10 Batch 1:  Cost and accuracy: (1.366, 0.569) On valid set: (1.518, 0.494)\n",
      "Epoch 36, CIFAR-10 Batch 1:  Cost and accuracy: (1.278, 0.590) On valid set: (1.436, 0.520)\n",
      "Epoch 37, CIFAR-10 Batch 1:  Cost and accuracy: (1.235, 0.605) On valid set: (1.395, 0.533)\n",
      "Epoch 38, CIFAR-10 Batch 1:  Cost and accuracy: (1.218, 0.605) On valid set: (1.384, 0.535)\n",
      "Epoch 39, CIFAR-10 Batch 1:  Cost and accuracy: (1.192, 0.618) On valid set: (1.371, 0.535)\n",
      "Epoch 40, CIFAR-10 Batch 1:  Cost and accuracy: (1.184, 0.619) On valid set: (1.364, 0.537)\n",
      "Epoch 41, CIFAR-10 Batch 1:  Cost and accuracy: (1.179, 0.625) On valid set: (1.360, 0.536)\n",
      "Epoch 42, CIFAR-10 Batch 1:  Cost and accuracy: (1.173, 0.620) On valid set: (1.373, 0.537)\n",
      "Epoch 43, CIFAR-10 Batch 1:  Cost and accuracy: (1.144, 0.640) On valid set: (1.345, 0.547)\n",
      "Epoch 44, CIFAR-10 Batch 1:  Cost and accuracy: (1.117, 0.641) On valid set: (1.328, 0.552)\n",
      "Epoch 45, CIFAR-10 Batch 1:  Cost and accuracy: (1.102, 0.653) On valid set: (1.328, 0.560)\n",
      "Epoch 46, CIFAR-10 Batch 1:  Cost and accuracy: (1.081, 0.662) On valid set: (1.314, 0.559)\n",
      "Epoch 47, CIFAR-10 Batch 1:  Cost and accuracy: (1.069, 0.670) On valid set: (1.308, 0.564)\n",
      "Epoch 48, CIFAR-10 Batch 1:  Cost and accuracy: (1.053, 0.668) On valid set: (1.301, 0.562)\n",
      "Epoch 49, CIFAR-10 Batch 1:  Cost and accuracy: (1.041, 0.670) On valid set: (1.295, 0.568)\n",
      "Epoch 50, CIFAR-10 Batch 1:  Cost and accuracy: (1.029, 0.675) On valid set: (1.288, 0.571)\n"
     ]
    }
   ],
   "source": [
    "\"\"\"\n",
    "DON'T MODIFY ANYTHING IN THIS CELL\n",
    "\"\"\"\n",
    "print('Checking the Training on a Single Batch...')\n",
    "with tf.Session() as sess:\n",
    "    # Initializing the variables\n",
    "    sess.run(tf.global_variables_initializer())\n",
    "    \n",
    "    # Training cycle\n",
    "    for epoch in range(epochs):\n",
    "        batch_i = 1\n",
    "        for batch_features, batch_labels in helper.load_preprocess_training_batch(batch_i, batch_size):\n",
    "            train_neural_network(sess, optimizer, keep_probability, batch_features, batch_labels)\n",
    "        print('Epoch {:>2}, CIFAR-10 Batch {}:  '.format(epoch + 1, batch_i), end='')\n",
    "        print_stats(sess, batch_features, batch_labels, cost, accuracy)"
   ]
  },
  {
   "cell_type": "markdown",
   "metadata": {
    "deletable": true,
    "editable": true
   },
   "source": [
    "### Fully Train the Model\n",
    "Now that you got a good accuracy with a single CIFAR-10 batch, try it with all five batches."
   ]
  },
  {
   "cell_type": "code",
   "execution_count": 20,
   "metadata": {
    "collapsed": false,
    "deletable": true,
    "editable": true
   },
   "outputs": [
    {
     "name": "stdout",
     "output_type": "stream",
     "text": [
      "Training...\n",
      "Epoch  1, CIFAR-10 Batch 1:  Cost and accuracy: (2.278, 0.189) On valid set: (2.280, 0.194)\n",
      "Epoch  1, CIFAR-10 Batch 2:  Cost and accuracy: (2.175, 0.212) On valid set: (2.178, 0.210)\n",
      "Epoch  1, CIFAR-10 Batch 3:  Cost and accuracy: (2.127, 0.236) On valid set: (2.155, 0.214)\n",
      "Epoch  1, CIFAR-10 Batch 4:  Cost and accuracy: (2.054, 0.281) On valid set: (2.072, 0.255)\n",
      "Epoch  1, CIFAR-10 Batch 5:  Cost and accuracy: (2.011, 0.283) On valid set: (2.019, 0.264)\n",
      "Epoch  2, CIFAR-10 Batch 1:  Cost and accuracy: (1.957, 0.312) On valid set: (1.963, 0.296)\n",
      "Epoch  2, CIFAR-10 Batch 2:  Cost and accuracy: (1.941, 0.302) On valid set: (1.935, 0.304)\n",
      "Epoch  2, CIFAR-10 Batch 3:  Cost and accuracy: (1.866, 0.353) On valid set: (1.891, 0.317)\n",
      "Epoch  2, CIFAR-10 Batch 4:  Cost and accuracy: (1.851, 0.350) On valid set: (1.847, 0.336)\n",
      "Epoch  2, CIFAR-10 Batch 5:  Cost and accuracy: (1.821, 0.364) On valid set: (1.808, 0.349)\n",
      "Epoch  3, CIFAR-10 Batch 1:  Cost and accuracy: (1.776, 0.387) On valid set: (1.786, 0.354)\n",
      "Epoch  3, CIFAR-10 Batch 2:  Cost and accuracy: (1.787, 0.353) On valid set: (1.760, 0.367)\n",
      "Epoch  3, CIFAR-10 Batch 3:  Cost and accuracy: (1.697, 0.405) On valid set: (1.730, 0.368)\n",
      "Epoch  3, CIFAR-10 Batch 4:  Cost and accuracy: (1.699, 0.406) On valid set: (1.710, 0.382)\n",
      "Epoch  3, CIFAR-10 Batch 5:  Cost and accuracy: (1.730, 0.387) On valid set: (1.717, 0.383)\n",
      "Epoch  4, CIFAR-10 Batch 1:  Cost and accuracy: (1.648, 0.434) On valid set: (1.677, 0.401)\n",
      "Epoch  4, CIFAR-10 Batch 2:  Cost and accuracy: (1.685, 0.407) On valid set: (1.666, 0.411)\n",
      "Epoch  4, CIFAR-10 Batch 3:  Cost and accuracy: (1.622, 0.442) On valid set: (1.663, 0.403)\n",
      "Epoch  4, CIFAR-10 Batch 4:  Cost and accuracy: (1.623, 0.437) On valid set: (1.646, 0.409)\n",
      "Epoch  4, CIFAR-10 Batch 5:  Cost and accuracy: (1.652, 0.425) On valid set: (1.635, 0.409)\n",
      "Epoch  5, CIFAR-10 Batch 1:  Cost and accuracy: (1.571, 0.469) On valid set: (1.612, 0.422)\n",
      "Epoch  5, CIFAR-10 Batch 2:  Cost and accuracy: (1.616, 0.446) On valid set: (1.615, 0.427)\n",
      "Epoch  5, CIFAR-10 Batch 3:  Cost and accuracy: (1.571, 0.462) On valid set: (1.614, 0.416)\n",
      "Epoch  5, CIFAR-10 Batch 4:  Cost and accuracy: (1.582, 0.450) On valid set: (1.613, 0.422)\n",
      "Epoch  5, CIFAR-10 Batch 5:  Cost and accuracy: (1.598, 0.432) On valid set: (1.579, 0.444)\n",
      "Epoch  6, CIFAR-10 Batch 1:  Cost and accuracy: (1.523, 0.485) On valid set: (1.566, 0.440)\n",
      "Epoch  6, CIFAR-10 Batch 2:  Cost and accuracy: (1.583, 0.447) On valid set: (1.594, 0.438)\n",
      "Epoch  6, CIFAR-10 Batch 3:  Cost and accuracy: (1.499, 0.485) On valid set: (1.544, 0.447)\n",
      "Epoch  6, CIFAR-10 Batch 4:  Cost and accuracy: (1.501, 0.484) On valid set: (1.543, 0.441)\n",
      "Epoch  6, CIFAR-10 Batch 5:  Cost and accuracy: (1.556, 0.465) On valid set: (1.550, 0.448)\n",
      "Epoch  7, CIFAR-10 Batch 1:  Cost and accuracy: (1.482, 0.486) On valid set: (1.536, 0.453)\n",
      "Epoch  7, CIFAR-10 Batch 2:  Cost and accuracy: (1.524, 0.470) On valid set: (1.525, 0.465)\n",
      "Epoch  7, CIFAR-10 Batch 3:  Cost and accuracy: (1.457, 0.489) On valid set: (1.512, 0.456)\n",
      "Epoch  7, CIFAR-10 Batch 4:  Cost and accuracy: (1.437, 0.510) On valid set: (1.491, 0.470)\n",
      "Epoch  7, CIFAR-10 Batch 5:  Cost and accuracy: (1.502, 0.500) On valid set: (1.496, 0.473)\n",
      "Epoch  8, CIFAR-10 Batch 1:  Cost and accuracy: (1.425, 0.517) On valid set: (1.479, 0.474)\n",
      "Epoch  8, CIFAR-10 Batch 2:  Cost and accuracy: (1.483, 0.499) On valid set: (1.490, 0.479)\n",
      "Epoch  8, CIFAR-10 Batch 3:  Cost and accuracy: (1.426, 0.500) On valid set: (1.482, 0.474)\n",
      "Epoch  8, CIFAR-10 Batch 4:  Cost and accuracy: (1.405, 0.536) On valid set: (1.467, 0.476)\n",
      "Epoch  8, CIFAR-10 Batch 5:  Cost and accuracy: (1.466, 0.509) On valid set: (1.465, 0.485)\n",
      "Epoch  9, CIFAR-10 Batch 1:  Cost and accuracy: (1.390, 0.517) On valid set: (1.452, 0.481)\n",
      "Epoch  9, CIFAR-10 Batch 2:  Cost and accuracy: (1.452, 0.501) On valid set: (1.462, 0.489)\n",
      "Epoch  9, CIFAR-10 Batch 3:  Cost and accuracy: (1.383, 0.526) On valid set: (1.446, 0.488)\n",
      "Epoch  9, CIFAR-10 Batch 4:  Cost and accuracy: (1.372, 0.541) On valid set: (1.436, 0.495)\n",
      "Epoch  9, CIFAR-10 Batch 5:  Cost and accuracy: (1.429, 0.516) On valid set: (1.433, 0.496)\n",
      "Epoch 10, CIFAR-10 Batch 1:  Cost and accuracy: (1.355, 0.531) On valid set: (1.417, 0.499)\n",
      "Epoch 10, CIFAR-10 Batch 2:  Cost and accuracy: (1.421, 0.519) On valid set: (1.437, 0.500)\n",
      "Epoch 10, CIFAR-10 Batch 3:  Cost and accuracy: (1.334, 0.541) On valid set: (1.402, 0.511)\n",
      "Epoch 10, CIFAR-10 Batch 4:  Cost and accuracy: (1.342, 0.552) On valid set: (1.415, 0.498)\n",
      "Epoch 10, CIFAR-10 Batch 5:  Cost and accuracy: (1.383, 0.524) On valid set: (1.399, 0.513)\n",
      "Epoch 11, CIFAR-10 Batch 1:  Cost and accuracy: (1.320, 0.547) On valid set: (1.389, 0.514)\n",
      "Epoch 11, CIFAR-10 Batch 2:  Cost and accuracy: (1.387, 0.532) On valid set: (1.402, 0.520)\n",
      "Epoch 11, CIFAR-10 Batch 3:  Cost and accuracy: (1.297, 0.559) On valid set: (1.376, 0.517)\n",
      "Epoch 11, CIFAR-10 Batch 4:  Cost and accuracy: (1.306, 0.571) On valid set: (1.388, 0.509)\n",
      "Epoch 11, CIFAR-10 Batch 5:  Cost and accuracy: (1.355, 0.542) On valid set: (1.382, 0.522)\n",
      "Epoch 12, CIFAR-10 Batch 1:  Cost and accuracy: (1.287, 0.558) On valid set: (1.362, 0.526)\n",
      "Epoch 12, CIFAR-10 Batch 2:  Cost and accuracy: (1.354, 0.540) On valid set: (1.378, 0.521)\n",
      "Epoch 12, CIFAR-10 Batch 3:  Cost and accuracy: (1.284, 0.566) On valid set: (1.360, 0.526)\n",
      "Epoch 12, CIFAR-10 Batch 4:  Cost and accuracy: (1.282, 0.566) On valid set: (1.368, 0.518)\n",
      "Epoch 12, CIFAR-10 Batch 5:  Cost and accuracy: (1.318, 0.566) On valid set: (1.352, 0.528)\n",
      "Epoch 13, CIFAR-10 Batch 1:  Cost and accuracy: (1.263, 0.577) On valid set: (1.341, 0.532)\n",
      "Epoch 13, CIFAR-10 Batch 2:  Cost and accuracy: (1.313, 0.561) On valid set: (1.352, 0.531)\n",
      "Epoch 13, CIFAR-10 Batch 3:  Cost and accuracy: (1.242, 0.593) On valid set: (1.327, 0.542)\n",
      "Epoch 13, CIFAR-10 Batch 4:  Cost and accuracy: (1.242, 0.593) On valid set: (1.327, 0.538)\n",
      "Epoch 13, CIFAR-10 Batch 5:  Cost and accuracy: (1.276, 0.577) On valid set: (1.324, 0.538)\n",
      "Epoch 14, CIFAR-10 Batch 1:  Cost and accuracy: (1.240, 0.585) On valid set: (1.316, 0.545)\n",
      "Epoch 14, CIFAR-10 Batch 2:  Cost and accuracy: (1.278, 0.559) On valid set: (1.314, 0.544)\n",
      "Epoch 14, CIFAR-10 Batch 3:  Cost and accuracy: (1.214, 0.600) On valid set: (1.306, 0.549)\n",
      "Epoch 14, CIFAR-10 Batch 4:  Cost and accuracy: (1.209, 0.603) On valid set: (1.303, 0.552)\n",
      "Epoch 14, CIFAR-10 Batch 5:  Cost and accuracy: (1.243, 0.587) On valid set: (1.298, 0.547)\n",
      "Epoch 15, CIFAR-10 Batch 1:  Cost and accuracy: (1.206, 0.603) On valid set: (1.293, 0.548)\n",
      "Epoch 15, CIFAR-10 Batch 2:  Cost and accuracy: (1.248, 0.575) On valid set: (1.298, 0.554)\n",
      "Epoch 15, CIFAR-10 Batch 3:  Cost and accuracy: (1.180, 0.601) On valid set: (1.281, 0.558)\n",
      "Epoch 15, CIFAR-10 Batch 4:  Cost and accuracy: (1.176, 0.608) On valid set: (1.280, 0.560)\n",
      "Epoch 15, CIFAR-10 Batch 5:  Cost and accuracy: (1.215, 0.593) On valid set: (1.278, 0.556)\n",
      "Epoch 16, CIFAR-10 Batch 1:  Cost and accuracy: (1.168, 0.610) On valid set: (1.264, 0.564)\n",
      "Epoch 16, CIFAR-10 Batch 2:  Cost and accuracy: (1.220, 0.590) On valid set: (1.276, 0.564)\n",
      "Epoch 16, CIFAR-10 Batch 3:  Cost and accuracy: (1.150, 0.620) On valid set: (1.262, 0.567)\n",
      "Epoch 16, CIFAR-10 Batch 4:  Cost and accuracy: (1.154, 0.618) On valid set: (1.262, 0.566)\n",
      "Epoch 16, CIFAR-10 Batch 5:  Cost and accuracy: (1.174, 0.600) On valid set: (1.255, 0.566)\n",
      "Epoch 17, CIFAR-10 Batch 1:  Cost and accuracy: (1.150, 0.610) On valid set: (1.253, 0.566)\n",
      "Epoch 17, CIFAR-10 Batch 2:  Cost and accuracy: (1.192, 0.595) On valid set: (1.257, 0.569)\n",
      "Epoch 17, CIFAR-10 Batch 3:  Cost and accuracy: (1.133, 0.621) On valid set: (1.247, 0.567)\n",
      "Epoch 17, CIFAR-10 Batch 4:  Cost and accuracy: (1.128, 0.625) On valid set: (1.242, 0.574)\n",
      "Epoch 17, CIFAR-10 Batch 5:  Cost and accuracy: (1.148, 0.610) On valid set: (1.237, 0.576)\n",
      "Epoch 18, CIFAR-10 Batch 1:  Cost and accuracy: (1.118, 0.621) On valid set: (1.232, 0.576)\n",
      "Epoch 18, CIFAR-10 Batch 2:  Cost and accuracy: (1.172, 0.599) On valid set: (1.247, 0.573)\n",
      "Epoch 18, CIFAR-10 Batch 3:  Cost and accuracy: (1.098, 0.635) On valid set: (1.230, 0.572)\n",
      "Epoch 18, CIFAR-10 Batch 4:  Cost and accuracy: (1.110, 0.627) On valid set: (1.227, 0.578)\n",
      "Epoch 18, CIFAR-10 Batch 5:  Cost and accuracy: (1.124, 0.623) On valid set: (1.223, 0.576)\n",
      "Epoch 19, CIFAR-10 Batch 1:  Cost and accuracy: (1.102, 0.626) On valid set: (1.217, 0.585)\n",
      "Epoch 19, CIFAR-10 Batch 2:  Cost and accuracy: (1.142, 0.613) On valid set: (1.220, 0.580)\n",
      "Epoch 19, CIFAR-10 Batch 3:  Cost and accuracy: (1.078, 0.635) On valid set: (1.217, 0.574)\n",
      "Epoch 19, CIFAR-10 Batch 4:  Cost and accuracy: (1.086, 0.634) On valid set: (1.219, 0.583)\n",
      "Epoch 19, CIFAR-10 Batch 5:  Cost and accuracy: (1.109, 0.634) On valid set: (1.220, 0.578)\n",
      "Epoch 20, CIFAR-10 Batch 1:  Cost and accuracy: (1.081, 0.636) On valid set: (1.205, 0.588)\n",
      "Epoch 20, CIFAR-10 Batch 2:  Cost and accuracy: (1.115, 0.641) On valid set: (1.199, 0.589)\n",
      "Epoch 20, CIFAR-10 Batch 3:  Cost and accuracy: (1.055, 0.663) On valid set: (1.204, 0.582)\n",
      "Epoch 20, CIFAR-10 Batch 4:  Cost and accuracy: (1.051, 0.642) On valid set: (1.189, 0.591)\n",
      "Epoch 20, CIFAR-10 Batch 5:  Cost and accuracy: (1.081, 0.627) On valid set: (1.197, 0.585)\n",
      "Epoch 21, CIFAR-10 Batch 1:  Cost and accuracy: (1.064, 0.639) On valid set: (1.187, 0.591)\n",
      "Epoch 21, CIFAR-10 Batch 2:  Cost and accuracy: (1.088, 0.634) On valid set: (1.180, 0.595)\n",
      "Epoch 21, CIFAR-10 Batch 3:  Cost and accuracy: (1.022, 0.658) On valid set: (1.174, 0.598)\n",
      "Epoch 21, CIFAR-10 Batch 4:  Cost and accuracy: (1.043, 0.658) On valid set: (1.170, 0.602)\n",
      "Epoch 21, CIFAR-10 Batch 5:  Cost and accuracy: (1.047, 0.650) On valid set: (1.171, 0.601)\n",
      "Epoch 22, CIFAR-10 Batch 1:  Cost and accuracy: (1.031, 0.661) On valid set: (1.173, 0.595)\n",
      "Epoch 22, CIFAR-10 Batch 2:  Cost and accuracy: (1.063, 0.640) On valid set: (1.174, 0.595)\n",
      "Epoch 22, CIFAR-10 Batch 3:  Cost and accuracy: (1.026, 0.675) On valid set: (1.183, 0.588)\n",
      "Epoch 22, CIFAR-10 Batch 4:  Cost and accuracy: (1.051, 0.641) On valid set: (1.186, 0.594)\n",
      "Epoch 22, CIFAR-10 Batch 5:  Cost and accuracy: (1.031, 0.661) On valid set: (1.167, 0.594)\n",
      "Epoch 23, CIFAR-10 Batch 1:  Cost and accuracy: (1.005, 0.653) On valid set: (1.155, 0.602)\n",
      "Epoch 23, CIFAR-10 Batch 2:  Cost and accuracy: (1.061, 0.640) On valid set: (1.174, 0.597)\n",
      "Epoch 23, CIFAR-10 Batch 3:  Cost and accuracy: (1.007, 0.675) On valid set: (1.164, 0.605)\n",
      "Epoch 23, CIFAR-10 Batch 4:  Cost and accuracy: (1.009, 0.656) On valid set: (1.154, 0.601)\n",
      "Epoch 23, CIFAR-10 Batch 5:  Cost and accuracy: (1.024, 0.660) On valid set: (1.161, 0.599)\n",
      "Epoch 24, CIFAR-10 Batch 1:  Cost and accuracy: (0.996, 0.668) On valid set: (1.155, 0.601)\n",
      "Epoch 24, CIFAR-10 Batch 2:  Cost and accuracy: (1.042, 0.650) On valid set: (1.148, 0.606)\n",
      "Epoch 24, CIFAR-10 Batch 3:  Cost and accuracy: (0.988, 0.679) On valid set: (1.151, 0.605)\n",
      "Epoch 24, CIFAR-10 Batch 4:  Cost and accuracy: (0.996, 0.661) On valid set: (1.147, 0.606)\n",
      "Epoch 24, CIFAR-10 Batch 5:  Cost and accuracy: (0.984, 0.684) On valid set: (1.135, 0.607)\n",
      "Epoch 25, CIFAR-10 Batch 1:  Cost and accuracy: (0.976, 0.676) On valid set: (1.130, 0.612)\n",
      "Epoch 25, CIFAR-10 Batch 2:  Cost and accuracy: (1.036, 0.644) On valid set: (1.156, 0.600)\n",
      "Epoch 25, CIFAR-10 Batch 3:  Cost and accuracy: (0.961, 0.689) On valid set: (1.133, 0.610)\n",
      "Epoch 25, CIFAR-10 Batch 4:  Cost and accuracy: (0.982, 0.684) On valid set: (1.149, 0.606)\n",
      "Epoch 25, CIFAR-10 Batch 5:  Cost and accuracy: (0.997, 0.687) On valid set: (1.150, 0.606)\n",
      "Epoch 26, CIFAR-10 Batch 1:  Cost and accuracy: (0.992, 0.675) On valid set: (1.149, 0.599)\n",
      "Epoch 26, CIFAR-10 Batch 2:  Cost and accuracy: (1.017, 0.660) On valid set: (1.165, 0.600)\n",
      "Epoch 26, CIFAR-10 Batch 3:  Cost and accuracy: (0.965, 0.672) On valid set: (1.148, 0.603)\n",
      "Epoch 26, CIFAR-10 Batch 4:  Cost and accuracy: (0.979, 0.678) On valid set: (1.144, 0.602)\n",
      "Epoch 26, CIFAR-10 Batch 5:  Cost and accuracy: (0.963, 0.697) On valid set: (1.123, 0.615)\n",
      "Epoch 27, CIFAR-10 Batch 1:  Cost and accuracy: (0.942, 0.691) On valid set: (1.119, 0.613)\n",
      "Epoch 27, CIFAR-10 Batch 2:  Cost and accuracy: (0.997, 0.667) On valid set: (1.127, 0.613)\n",
      "Epoch 27, CIFAR-10 Batch 3:  Cost and accuracy: (0.933, 0.689) On valid set: (1.110, 0.620)\n",
      "Epoch 27, CIFAR-10 Batch 4:  Cost and accuracy: (0.937, 0.683) On valid set: (1.110, 0.622)\n",
      "Epoch 27, CIFAR-10 Batch 5:  Cost and accuracy: (0.943, 0.694) On valid set: (1.114, 0.622)\n",
      "Epoch 28, CIFAR-10 Batch 1:  Cost and accuracy: (0.935, 0.699) On valid set: (1.109, 0.617)\n",
      "Epoch 28, CIFAR-10 Batch 2:  Cost and accuracy: (0.982, 0.665) On valid set: (1.134, 0.610)\n",
      "Epoch 28, CIFAR-10 Batch 3:  Cost and accuracy: (0.921, 0.702) On valid set: (1.114, 0.618)\n",
      "Epoch 28, CIFAR-10 Batch 4:  Cost and accuracy: (0.922, 0.692) On valid set: (1.105, 0.625)\n",
      "Epoch 28, CIFAR-10 Batch 5:  Cost and accuracy: (0.936, 0.700) On valid set: (1.112, 0.616)\n",
      "Epoch 29, CIFAR-10 Batch 1:  Cost and accuracy: (0.911, 0.700) On valid set: (1.091, 0.622)\n",
      "Epoch 29, CIFAR-10 Batch 2:  Cost and accuracy: (0.954, 0.693) On valid set: (1.104, 0.620)\n",
      "Epoch 29, CIFAR-10 Batch 3:  Cost and accuracy: (0.886, 0.709) On valid set: (1.093, 0.627)\n",
      "Epoch 29, CIFAR-10 Batch 4:  Cost and accuracy: (0.907, 0.696) On valid set: (1.085, 0.630)\n",
      "Epoch 29, CIFAR-10 Batch 5:  Cost and accuracy: (0.905, 0.714) On valid set: (1.090, 0.630)\n",
      "Epoch 30, CIFAR-10 Batch 1:  Cost and accuracy: (0.893, 0.709) On valid set: (1.081, 0.625)\n",
      "Epoch 30, CIFAR-10 Batch 2:  Cost and accuracy: (0.942, 0.686) On valid set: (1.116, 0.620)\n",
      "Epoch 30, CIFAR-10 Batch 3:  Cost and accuracy: (0.897, 0.712) On valid set: (1.106, 0.618)\n",
      "Epoch 30, CIFAR-10 Batch 4:  Cost and accuracy: (0.900, 0.703) On valid set: (1.093, 0.625)\n",
      "Epoch 30, CIFAR-10 Batch 5:  Cost and accuracy: (0.894, 0.713) On valid set: (1.088, 0.629)\n",
      "Epoch 31, CIFAR-10 Batch 1:  Cost and accuracy: (0.874, 0.723) On valid set: (1.081, 0.630)\n",
      "Epoch 31, CIFAR-10 Batch 2:  Cost and accuracy: (0.912, 0.698) On valid set: (1.080, 0.633)\n",
      "Epoch 31, CIFAR-10 Batch 3:  Cost and accuracy: (0.865, 0.722) On valid set: (1.075, 0.633)\n",
      "Epoch 31, CIFAR-10 Batch 4:  Cost and accuracy: (0.875, 0.705) On valid set: (1.064, 0.638)\n",
      "Epoch 31, CIFAR-10 Batch 5:  Cost and accuracy: (0.872, 0.722) On valid set: (1.071, 0.633)\n",
      "Epoch 32, CIFAR-10 Batch 1:  Cost and accuracy: (0.849, 0.724) On valid set: (1.067, 0.631)\n",
      "Epoch 32, CIFAR-10 Batch 2:  Cost and accuracy: (0.906, 0.703) On valid set: (1.068, 0.637)\n",
      "Epoch 32, CIFAR-10 Batch 3:  Cost and accuracy: (0.838, 0.726) On valid set: (1.067, 0.638)\n",
      "Epoch 32, CIFAR-10 Batch 4:  Cost and accuracy: (0.869, 0.703) On valid set: (1.078, 0.630)\n",
      "Epoch 32, CIFAR-10 Batch 5:  Cost and accuracy: (0.870, 0.724) On valid set: (1.078, 0.634)\n",
      "Epoch 33, CIFAR-10 Batch 1:  Cost and accuracy: (0.851, 0.723) On valid set: (1.058, 0.637)\n",
      "Epoch 33, CIFAR-10 Batch 2:  Cost and accuracy: (0.898, 0.697) On valid set: (1.083, 0.629)\n",
      "Epoch 33, CIFAR-10 Batch 3:  Cost and accuracy: (0.838, 0.736) On valid set: (1.070, 0.632)\n",
      "Epoch 33, CIFAR-10 Batch 4:  Cost and accuracy: (0.867, 0.712) On valid set: (1.078, 0.626)\n",
      "Epoch 33, CIFAR-10 Batch 5:  Cost and accuracy: (0.850, 0.729) On valid set: (1.072, 0.636)\n",
      "Epoch 34, CIFAR-10 Batch 1:  Cost and accuracy: (0.828, 0.730) On valid set: (1.048, 0.642)\n",
      "Epoch 34, CIFAR-10 Batch 2:  Cost and accuracy: (0.872, 0.712) On valid set: (1.059, 0.637)\n",
      "Epoch 34, CIFAR-10 Batch 3:  Cost and accuracy: (0.836, 0.729) On valid set: (1.066, 0.631)\n",
      "Epoch 34, CIFAR-10 Batch 4:  Cost and accuracy: (0.834, 0.710) On valid set: (1.055, 0.638)\n",
      "Epoch 34, CIFAR-10 Batch 5:  Cost and accuracy: (0.835, 0.735) On valid set: (1.054, 0.637)\n",
      "Epoch 35, CIFAR-10 Batch 1:  Cost and accuracy: (0.814, 0.733) On valid set: (1.040, 0.647)\n",
      "Epoch 35, CIFAR-10 Batch 2:  Cost and accuracy: (0.867, 0.715) On valid set: (1.061, 0.637)\n",
      "Epoch 35, CIFAR-10 Batch 3:  Cost and accuracy: (0.828, 0.733) On valid set: (1.069, 0.636)\n",
      "Epoch 35, CIFAR-10 Batch 4:  Cost and accuracy: (0.823, 0.722) On valid set: (1.048, 0.642)\n",
      "Epoch 35, CIFAR-10 Batch 5:  Cost and accuracy: (0.830, 0.739) On valid set: (1.056, 0.639)\n",
      "Epoch 36, CIFAR-10 Batch 1:  Cost and accuracy: (0.811, 0.733) On valid set: (1.040, 0.647)\n",
      "Epoch 36, CIFAR-10 Batch 2:  Cost and accuracy: (0.852, 0.718) On valid set: (1.052, 0.642)\n",
      "Epoch 36, CIFAR-10 Batch 3:  Cost and accuracy: (0.824, 0.745) On valid set: (1.067, 0.633)\n",
      "Epoch 36, CIFAR-10 Batch 4:  Cost and accuracy: (0.807, 0.740) On valid set: (1.042, 0.645)\n",
      "Epoch 36, CIFAR-10 Batch 5:  Cost and accuracy: (0.812, 0.740) On valid set: (1.053, 0.640)\n",
      "Epoch 37, CIFAR-10 Batch 1:  Cost and accuracy: (0.790, 0.744) On valid set: (1.034, 0.650)\n",
      "Epoch 37, CIFAR-10 Batch 2:  Cost and accuracy: (0.843, 0.730) On valid set: (1.036, 0.646)\n",
      "Epoch 37, CIFAR-10 Batch 3:  Cost and accuracy: (0.775, 0.755) On valid set: (1.033, 0.647)\n",
      "Epoch 37, CIFAR-10 Batch 4:  Cost and accuracy: (0.802, 0.743) On valid set: (1.043, 0.647)\n",
      "Epoch 37, CIFAR-10 Batch 5:  Cost and accuracy: (0.803, 0.740) On valid set: (1.047, 0.637)\n",
      "Epoch 38, CIFAR-10 Batch 1:  Cost and accuracy: (0.795, 0.734) On valid set: (1.033, 0.649)\n",
      "Epoch 38, CIFAR-10 Batch 2:  Cost and accuracy: (0.834, 0.725) On valid set: (1.049, 0.642)\n",
      "Epoch 38, CIFAR-10 Batch 3:  Cost and accuracy: (0.777, 0.749) On valid set: (1.036, 0.648)\n",
      "Epoch 38, CIFAR-10 Batch 4:  Cost and accuracy: (0.806, 0.738) On valid set: (1.043, 0.646)\n",
      "Epoch 38, CIFAR-10 Batch 5:  Cost and accuracy: (0.784, 0.755) On valid set: (1.026, 0.653)\n",
      "Epoch 39, CIFAR-10 Batch 1:  Cost and accuracy: (0.795, 0.735) On valid set: (1.044, 0.638)\n",
      "Epoch 39, CIFAR-10 Batch 2:  Cost and accuracy: (0.814, 0.731) On valid set: (1.026, 0.648)\n",
      "Epoch 39, CIFAR-10 Batch 3:  Cost and accuracy: (0.787, 0.734) On valid set: (1.054, 0.637)\n",
      "Epoch 39, CIFAR-10 Batch 4:  Cost and accuracy: (0.779, 0.750) On valid set: (1.021, 0.656)\n",
      "Epoch 39, CIFAR-10 Batch 5:  Cost and accuracy: (0.773, 0.745) On valid set: (1.022, 0.653)\n",
      "Epoch 40, CIFAR-10 Batch 1:  Cost and accuracy: (0.774, 0.739) On valid set: (1.028, 0.650)\n",
      "Epoch 40, CIFAR-10 Batch 2:  Cost and accuracy: (0.811, 0.729) On valid set: (1.037, 0.644)\n",
      "Epoch 40, CIFAR-10 Batch 3:  Cost and accuracy: (0.778, 0.741) On valid set: (1.062, 0.638)\n",
      "Epoch 40, CIFAR-10 Batch 4:  Cost and accuracy: (0.788, 0.743) On valid set: (1.044, 0.645)\n",
      "Epoch 40, CIFAR-10 Batch 5:  Cost and accuracy: (0.774, 0.754) On valid set: (1.031, 0.649)\n",
      "Epoch 41, CIFAR-10 Batch 1:  Cost and accuracy: (0.763, 0.745) On valid set: (1.032, 0.650)\n",
      "Epoch 41, CIFAR-10 Batch 2:  Cost and accuracy: (0.799, 0.744) On valid set: (1.010, 0.652)\n",
      "Epoch 41, CIFAR-10 Batch 3:  Cost and accuracy: (0.741, 0.765) On valid set: (1.006, 0.658)\n",
      "Epoch 41, CIFAR-10 Batch 4:  Cost and accuracy: (0.752, 0.749) On valid set: (1.006, 0.658)\n",
      "Epoch 41, CIFAR-10 Batch 5:  Cost and accuracy: (0.739, 0.761) On valid set: (1.004, 0.662)\n",
      "Epoch 42, CIFAR-10 Batch 1:  Cost and accuracy: (0.738, 0.761) On valid set: (1.007, 0.657)\n",
      "Epoch 42, CIFAR-10 Batch 2:  Cost and accuracy: (0.771, 0.750) On valid set: (1.006, 0.657)\n",
      "Epoch 42, CIFAR-10 Batch 3:  Cost and accuracy: (0.724, 0.769) On valid set: (1.004, 0.659)\n",
      "Epoch 42, CIFAR-10 Batch 4:  Cost and accuracy: (0.744, 0.756) On valid set: (1.003, 0.658)\n",
      "Epoch 42, CIFAR-10 Batch 5:  Cost and accuracy: (0.723, 0.772) On valid set: (0.998, 0.661)\n",
      "Epoch 43, CIFAR-10 Batch 1:  Cost and accuracy: (0.725, 0.762) On valid set: (1.004, 0.663)\n",
      "Epoch 43, CIFAR-10 Batch 2:  Cost and accuracy: (0.758, 0.757) On valid set: (0.997, 0.662)\n",
      "Epoch 43, CIFAR-10 Batch 3:  Cost and accuracy: (0.715, 0.770) On valid set: (1.006, 0.656)\n",
      "Epoch 43, CIFAR-10 Batch 4:  Cost and accuracy: (0.731, 0.764) On valid set: (1.009, 0.655)\n",
      "Epoch 43, CIFAR-10 Batch 5:  Cost and accuracy: (0.727, 0.777) On valid set: (1.003, 0.662)\n",
      "Epoch 44, CIFAR-10 Batch 1:  Cost and accuracy: (0.720, 0.755) On valid set: (0.997, 0.660)\n",
      "Epoch 44, CIFAR-10 Batch 2:  Cost and accuracy: (0.756, 0.750) On valid set: (0.990, 0.660)\n",
      "Epoch 44, CIFAR-10 Batch 3:  Cost and accuracy: (0.704, 0.772) On valid set: (0.998, 0.662)\n",
      "Epoch 44, CIFAR-10 Batch 4:  Cost and accuracy: (0.725, 0.764) On valid set: (0.992, 0.660)\n",
      "Epoch 44, CIFAR-10 Batch 5:  Cost and accuracy: (0.709, 0.771) On valid set: (0.999, 0.661)\n",
      "Epoch 45, CIFAR-10 Batch 1:  Cost and accuracy: (0.704, 0.762) On valid set: (0.994, 0.662)\n",
      "Epoch 45, CIFAR-10 Batch 2:  Cost and accuracy: (0.741, 0.766) On valid set: (0.987, 0.666)\n",
      "Epoch 45, CIFAR-10 Batch 3:  Cost and accuracy: (0.697, 0.780) On valid set: (1.005, 0.656)\n",
      "Epoch 45, CIFAR-10 Batch 4:  Cost and accuracy: (0.718, 0.774) On valid set: (1.000, 0.660)\n",
      "Epoch 45, CIFAR-10 Batch 5:  Cost and accuracy: (0.694, 0.785) On valid set: (0.987, 0.666)\n",
      "Epoch 46, CIFAR-10 Batch 1:  Cost and accuracy: (0.711, 0.770) On valid set: (1.016, 0.657)\n",
      "Epoch 46, CIFAR-10 Batch 2:  Cost and accuracy: (0.742, 0.770) On valid set: (0.991, 0.659)\n",
      "Epoch 46, CIFAR-10 Batch 3:  Cost and accuracy: (0.679, 0.782) On valid set: (0.991, 0.667)\n",
      "Epoch 46, CIFAR-10 Batch 4:  Cost and accuracy: (0.695, 0.778) On valid set: (0.988, 0.665)\n",
      "Epoch 46, CIFAR-10 Batch 5:  Cost and accuracy: (0.692, 0.787) On valid set: (0.981, 0.666)\n",
      "Epoch 47, CIFAR-10 Batch 1:  Cost and accuracy: (0.677, 0.782) On valid set: (0.991, 0.660)\n",
      "Epoch 47, CIFAR-10 Batch 2:  Cost and accuracy: (0.714, 0.767) On valid set: (0.974, 0.667)\n",
      "Epoch 47, CIFAR-10 Batch 3:  Cost and accuracy: (0.668, 0.791) On valid set: (0.985, 0.665)\n",
      "Epoch 47, CIFAR-10 Batch 4:  Cost and accuracy: (0.695, 0.777) On valid set: (0.989, 0.661)\n",
      "Epoch 47, CIFAR-10 Batch 5:  Cost and accuracy: (0.697, 0.774) On valid set: (1.017, 0.653)\n",
      "Epoch 48, CIFAR-10 Batch 1:  Cost and accuracy: (0.693, 0.767) On valid set: (0.999, 0.664)\n",
      "Epoch 48, CIFAR-10 Batch 2:  Cost and accuracy: (0.713, 0.774) On valid set: (0.970, 0.671)\n",
      "Epoch 48, CIFAR-10 Batch 3:  Cost and accuracy: (0.672, 0.796) On valid set: (0.985, 0.665)\n",
      "Epoch 48, CIFAR-10 Batch 4:  Cost and accuracy: (0.681, 0.780) On valid set: (0.980, 0.665)\n",
      "Epoch 48, CIFAR-10 Batch 5:  Cost and accuracy: (0.665, 0.792) On valid set: (0.973, 0.668)\n",
      "Epoch 49, CIFAR-10 Batch 1:  Cost and accuracy: (0.661, 0.783) On valid set: (0.980, 0.669)\n",
      "Epoch 49, CIFAR-10 Batch 2:  Cost and accuracy: (0.705, 0.770) On valid set: (0.976, 0.667)\n",
      "Epoch 49, CIFAR-10 Batch 3:  Cost and accuracy: (0.673, 0.781) On valid set: (0.990, 0.660)\n",
      "Epoch 49, CIFAR-10 Batch 4:  Cost and accuracy: (0.675, 0.769) On valid set: (0.988, 0.662)\n",
      "Epoch 49, CIFAR-10 Batch 5:  Cost and accuracy: (0.676, 0.783) On valid set: (1.001, 0.657)\n",
      "Epoch 50, CIFAR-10 Batch 1:  Cost and accuracy: (0.655, 0.787) On valid set: (0.967, 0.672)\n",
      "Epoch 50, CIFAR-10 Batch 2:  Cost and accuracy: (0.707, 0.774) On valid set: (0.966, 0.671)\n",
      "Epoch 50, CIFAR-10 Batch 3:  Cost and accuracy: (0.658, 0.803) On valid set: (0.973, 0.669)\n",
      "Epoch 50, CIFAR-10 Batch 4:  Cost and accuracy: (0.654, 0.780) On valid set: (0.972, 0.670)\n",
      "Epoch 50, CIFAR-10 Batch 5:  Cost and accuracy: (0.652, 0.797) On valid set: (0.979, 0.666)\n"
     ]
    }
   ],
   "source": [
    "\"\"\"\n",
    "DON'T MODIFY ANYTHING IN THIS CELL\n",
    "\"\"\"\n",
    "save_model_path = './image_classification'\n",
    "\n",
    "print('Training...')\n",
    "with tf.Session() as sess:\n",
    "    # Initializing the variables\n",
    "    sess.run(tf.global_variables_initializer())\n",
    "    \n",
    "    # Training cycle\n",
    "    for epoch in range(epochs):\n",
    "        # Loop over all batches\n",
    "        n_batches = 5\n",
    "        for batch_i in range(1, n_batches + 1):\n",
    "            for batch_features, batch_labels in helper.load_preprocess_training_batch(batch_i, batch_size):\n",
    "                train_neural_network(sess, optimizer, keep_probability, batch_features, batch_labels)\n",
    "            print('Epoch {:>2}, CIFAR-10 Batch {}:  '.format(epoch + 1, batch_i), end='')\n",
    "            print_stats(sess, batch_features, batch_labels, cost, accuracy)\n",
    "            \n",
    "    # Save Model\n",
    "    saver = tf.train.Saver()\n",
    "    save_path = saver.save(sess, save_model_path)"
   ]
  },
  {
   "cell_type": "markdown",
   "metadata": {
    "deletable": true,
    "editable": true
   },
   "source": [
    "# Checkpoint\n",
    "The model has been saved to disk.\n",
    "## Test Model\n",
    "Test your model against the test dataset.  This will be your final accuracy. You should have an accuracy greater than 50%. If you don't, keep tweaking the model architecture and parameters."
   ]
  },
  {
   "cell_type": "code",
   "execution_count": 21,
   "metadata": {
    "collapsed": false,
    "deletable": true,
    "editable": true
   },
   "outputs": [
    {
     "name": "stdout",
     "output_type": "stream",
     "text": [
      "Testing Accuracy: 0.6560261607170105\n",
      "\n"
     ]
    },
    {
     "data": {
      "image/png": "[encoded data removed]",
      "text/plain": [
       "<matplotlib.figure.Figure at 0x7fdb0f178390>"
      ]
     },
     "metadata": {
      "image/png": {
       "height": 319,
       "width": 355
      }
     },
     "output_type": "display_data"
    }
   ],
   "source": [
    "\"\"\"\n",
    "DON'T MODIFY ANYTHING IN THIS CELL\n",
    "\"\"\"\n",
    "%matplotlib inline\n",
    "%config InlineBackend.figure_format = 'retina'\n",
    "\n",
    "import tensorflow as tf\n",
    "import pickle\n",
    "import helper\n",
    "import random\n",
    "\n",
    "# Set batch size if not already set\n",
    "try:\n",
    "    if batch_size:\n",
    "        pass\n",
    "except NameError:\n",
    "    batch_size = 64\n",
    "\n",
    "save_model_path = './image_classification'\n",
    "n_samples = 4\n",
    "top_n_predictions = 3\n",
    "\n",
    "def test_model():\n",
    "    \"\"\"\n",
    "    Test the saved model against the test dataset\n",
    "    \"\"\"\n",
    "\n",
    "    test_features, test_labels = pickle.load(open('preprocess_training.p', mode='rb'))\n",
    "    loaded_graph = tf.Graph()\n",
    "\n",
    "    with tf.Session(graph=loaded_graph) as sess:\n",
    "        # Load model\n",
    "        loader = tf.train.import_meta_graph(save_model_path + '.meta')\n",
    "        loader.restore(sess, save_model_path)\n",
    "\n",
    "        # Get Tensors from loaded model\n",
    "        loaded_x = loaded_graph.get_tensor_by_name('x:0')\n",
    "        loaded_y = loaded_graph.get_tensor_by_name('y:0')\n",
    "        loaded_keep_prob = loaded_graph.get_tensor_by_name('keep_prob:0')\n",
    "        loaded_logits = loaded_graph.get_tensor_by_name('logits:0')\n",
    "        loaded_acc = loaded_graph.get_tensor_by_name('accuracy:0')\n",
    "        \n",
    "        # Get accuracy in batches for memory limitations\n",
    "        test_batch_acc_total = 0\n",
    "        test_batch_count = 0\n",
    "        \n",
    "        for train_feature_batch, train_label_batch in helper.batch_features_labels(test_features, test_labels, batch_size):\n",
    "            test_batch_acc_total += sess.run(\n",
    "                loaded_acc,\n",
    "                feed_dict={loaded_x: train_feature_batch, loaded_y: train_label_batch, loaded_keep_prob: 1.0})\n",
    "            test_batch_count += 1\n",
    "\n",
    "        print('Testing Accuracy: {}\\n'.format(test_batch_acc_total/test_batch_count))\n",
    "\n",
    "        # Print Random Samples\n",
    "        random_test_features, random_test_labels = tuple(zip(*random.sample(list(zip(test_features, test_labels)), n_samples)))\n",
    "        random_test_predictions = sess.run(\n",
    "            tf.nn.top_k(tf.nn.softmax(loaded_logits), top_n_predictions),\n",
    "            feed_dict={loaded_x: random_test_features, loaded_y: random_test_labels, loaded_keep_prob: 1.0})\n",
    "        helper.display_image_predictions(random_test_features, random_test_labels, random_test_predictions)\n",
    "\n",
    "\n",
    "test_model()"
   ]
  },
  {
   "cell_type": "markdown",
   "metadata": {
    "deletable": true,
    "editable": true
   },
   "source": [
    "## Why 50-70% Accuracy?\n",
    "You might be wondering why you can't get an accuracy any higher. First things first, 50% isn't bad for a simple CNN.  Pure guessing would get you 10% accuracy. However, you might notice people are getting scores [well above 70%](http://rodrigob.github.io/are_we_there_yet/build/classification_datasets_results.html#43494641522d3130).  That's because we haven't taught you all there is to know about neural networks. We still need to cover a few more techniques.\n",
    "## Submitting This Project\n",
    "When submitting this project, make sure to run all the cells before saving the notebook.  Save the notebook file as \"dlnd_image_classification.ipynb\" and save it as a HTML file under \"File\" -> \"Download as\".  Include the \"helper.py\" and \"problem_unittests.py\" files in your submission."
   ]
  }
 ],
 "metadata": {
  "kernelspec": {
   "display_name": "Python 3",
   "language": "python",
   "name": "python3"
  },
  "language_info": {
   "codemirror_mode": {
    "name": "ipython",
    "version": 3
   },
   "file_extension": ".py",
   "mimetype": "text/x-python",
   "name": "python",
   "nbconvert_exporter": "python",
   "pygments_lexer": "ipython3",
   "version": "3.5.3"
  },
  "widgets": {
   "state": {},
   "version": "1.1.2"
  }
 },
 "nbformat": 4,
 "nbformat_minor": 0
}
